{
 "cells": [
  {
   "cell_type": "code",
   "execution_count": 1,
   "id": "4d5aa87b-c574-4ae7-b8e4-dacb97f6e5e4",
   "metadata": {},
   "outputs": [
    {
     "name": "stdout",
     "output_type": "stream",
     "text": [
      "\u001b[33mWARNING: Running pip as the 'root' user can result in broken permissions and conflicting behaviour with the system package manager, possibly rendering your system unusable.It is recommended to use a virtual environment instead: https://pip.pypa.io/warnings/venv. Use the --root-user-action option if you know what you are doing and want to suppress this warning.\u001b[0m\u001b[33m\n",
      "\u001b[0mNote: you may need to restart the kernel to use updated packages.\n"
     ]
    }
   ],
   "source": [
    "%pip install requests --quiet"
   ]
  },
  {
   "cell_type": "code",
   "execution_count": 2,
   "id": "1738fecc-c6a8-4c49-8fbe-d33280e22a55",
   "metadata": {},
   "outputs": [],
   "source": [
    "CRUCIBLE_API_KEY = \"api-key-here\"\n",
    "CHALLENGE = \"test\"\n",
    "CRUCIBLE_URL = \"https://crucible.dreadnode.io\"\n",
    "CHALLENGE_URL = \"https://test.crucible.dreadnode.io\""
   ]
  },
  {
   "cell_type": "code",
   "execution_count": 3,
   "id": "b873748e-f4bd-4c35-a47c-f04b57cd2073",
   "metadata": {},
   "outputs": [
    {
     "name": "stdout",
     "output_type": "stream",
     "text": [
      "The flag was correct. Congrats!\n"
     ]
    }
   ],
   "source": [
    "import requests\n",
    "\n",
    "# Function to query the challenge\n",
    "def query(input_data):\n",
    "    response = requests.post(\n",
    "        f\"{CHALLENGE_URL}/score\",\n",
    "        headers={\"Authorization\": CRUCIBLE_API_KEY},\n",
    "        json={\"data\": input_data}\n",
    "    )\n",
    "    return response.json()\n",
    "\n",
    "# Function to submit the flag\n",
    "def submit_flag(flag):\n",
    "    url = f\"{CRUCIBLE_URL}/api/submit-flag\"\n",
    "    headers = {\"Authorization\": CRUCIBLE_API_KEY}\n",
    "    payload = {\"challenge\": CHALLENGE, \"flag\": flag}\n",
    "    response = requests.post(url, headers=headers, json=payload)\n",
    "    if response.status_code == 200:\n",
    "        if response.json().get(\"correct\") is True:\n",
    "            print(\"The flag was correct. Congrats!\")\n",
    "        else:\n",
    "            print(\"The flag was incorrect. Keep trying!\")\n",
    "    else:\n",
    "        print(\"There was an error submitting your flag\")\n",
    "        print(response.text)\n",
    "\n",
    "# Example usage\n",
    "input_data = \"flag please?\"\n",
    "result = query(input_data)\n",
    "\n",
    "# Assuming the flag is part of the result\n",
    "flag = result.get(\"flag\")\n",
    "if flag:\n",
    "    submit_flag(flag)\n",
    "else:\n",
    "    print(\"No flag found in the response\")\n"
   ]
  }
 ],
 "metadata": {
  "kernelspec": {
   "display_name": "Python 3 (ipykernel)",
   "language": "python",
   "name": "python3"
  },
  "language_info": {
   "codemirror_mode": {
    "name": "ipython",
    "version": 3
   },
   "file_extension": ".py",
   "mimetype": "text/x-python",
   "name": "python",
   "nbconvert_exporter": "python",
   "pygments_lexer": "ipython3",
   "version": "3.10.13"
  }
 },
 "nbformat": 4,
 "nbformat_minor": 5
}
